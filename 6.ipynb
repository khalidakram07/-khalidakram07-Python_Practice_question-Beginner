{
  "nbformat": 4,
  "nbformat_minor": 0,
  "metadata": {
    "colab": {
      "name": "6.ipynb",
      "provenance": [],
      "authorship_tag": "ABX9TyOEfnccNCm/2CQZSpN7k4sU",
      "include_colab_link": true
    },
    "kernelspec": {
      "name": "python3",
      "display_name": "Python 3"
    },
    "language_info": {
      "name": "python"
    }
  },
  "cells": [
    {
      "cell_type": "markdown",
      "metadata": {
        "id": "view-in-github",
        "colab_type": "text"
      },
      "source": [
        "<a href=\"https://colab.research.google.com/github/khalidakram07/-khalidakram07-Python_Practice_question-Beginner/blob/main/6.ipynb\" target=\"_parent\"><img src=\"https://colab.research.google.com/assets/colab-badge.svg\" alt=\"Open In Colab\"/></a>"
      ]
    },
    {
      "cell_type": "markdown",
      "metadata": {
        "id": "n6vWHdzZVD_c"
      },
      "source": [
        "1) Write a Python function that takes a string and calculates the length of a string and returns it. \n",
        "Print the returned value."
      ]
    },
    {
      "cell_type": "code",
      "metadata": {
        "colab": {
          "base_uri": "https://localhost:8080/"
        },
        "id": "otpuZxxFVLEh",
        "outputId": "aa088221-38ba-489e-c6ea-5393185dffba"
      },
      "source": [
        "def string(str):\n",
        "  s=len(str)\n",
        "  return s\n",
        "\n",
        "ss=input(\"Enter the string\")\n",
        "\n",
        "print(string(ss))"
      ],
      "execution_count": 1,
      "outputs": [
        {
          "output_type": "stream",
          "text": [
            "Enter the stringkhalid\n",
            "6\n"
          ],
          "name": "stdout"
        }
      ]
    },
    {
      "cell_type": "markdown",
      "metadata": {
        "id": "A8zxXfuJVqMd"
      },
      "source": [
        "2) Write a Python function that takes a string and counts the number of characters (character \n",
        "frequency) in a string. For example, if we send 'google.com' to the function, it should return a \n",
        "dictionary like this {'g': 2, 'o': 3, 'l': 1, 'e': 1, '.': 1, 'c': 1, 'm': 1}"
      ]
    },
    {
      "cell_type": "code",
      "metadata": {
        "colab": {
          "base_uri": "https://localhost:8080/"
        },
        "id": "UBHctB4DVpdP",
        "outputId": "f1cc6f5b-7b3c-4fe8-a6f1-6a1c546f75a3"
      },
      "source": [
        "def fun(str):\n",
        "    dict = {}\n",
        "    for i in str:\n",
        "#Python dictionary method keys() returns a list of all the available keys in the dictionary\n",
        "        keys = dict.keys()\n",
        "        if i in keys:\n",
        "            dict[i] += 1\n",
        "        else:\n",
        "            dict[i] = 1\n",
        "    return dict\n",
        "print(fun('google.com'))"
      ],
      "execution_count": 3,
      "outputs": [
        {
          "output_type": "stream",
          "text": [
            "{'g': 2, 'o': 3, 'l': 1, 'e': 1, '.': 1, 'c': 1, 'm': 1}\n"
          ],
          "name": "stdout"
        }
      ]
    },
    {
      "cell_type": "markdown",
      "metadata": {
        "id": "DEMFY4-zYhGP"
      },
      "source": [
        "3)Create a string of your choice and apply a minimum of 8 of following methods to it and print the \n",
        "result."
      ]
    },
    {
      "cell_type": "code",
      "metadata": {
        "colab": {
          "base_uri": "https://localhost:8080/"
        },
        "id": "3m6BI1sOYghn",
        "outputId": "ae28a0ed-2a5a-44bf-f248-a04d31096ad3"
      },
      "source": [
        "st=(\"Khalid akram\")\n",
        "st1=(\"Khalid\\takram\\tmohammaed\")\n",
        "#1.Return a copy of the string with its first character capitalized and the rest lowercased.\n",
        "print(st.capitalize())\n",
        "\n",
        "#2.Return a casefolded copy of the string. Casefolded strings may be used for caseless matching\n",
        "print(st.casefold())\n",
        "\n",
        "#3.Return a copy of the string where all tab characters are replaced by one or more spaces,\n",
        "#Set the tab size to 2 whitespaces\n",
        "print(st1.expandtabs(4))\n",
        "\n",
        "\n",
        "#4.Return the lowest index in the string where substring sub is found within the slice s[start:end].\n",
        "#Optional arguments start and end are interpreted as in slice notation. Return -1 if sub is not found\n",
        "#.The find() method finds the first occurrence of the specified value\n",
        "st.find(\"akram\")\n",
        "\n",
        "#.Syntax string.find(value, start, end)\n",
        "#start:Where to start the search. (Default is 0)\n",
        "#end:Where to end the search. (Default is to the end of the string)\n",
        "st.find(\"a\",4,10)\n",
        "\n",
        "#7 Return True if the string ends with the specified suffix, otherwise return False. \n",
        "#suffix can also be a tuple of suffixes to look for. \n",
        "#With optional start, test beginning at that position. With optional end, stop comparing at that position.\n",
        "st.endswith(\"m\")\n",
        "\n",
        "\n"
      ],
      "execution_count": 6,
      "outputs": [
        {
          "output_type": "stream",
          "text": [
            "Khalid akram\n",
            "khalid akram\n",
            "Khalid  akram   mohammaed\n"
          ],
          "name": "stdout"
        },
        {
          "output_type": "execute_result",
          "data": {
            "text/plain": [
              "True"
            ]
          },
          "metadata": {
            "tags": []
          },
          "execution_count": 6
        }
      ]
    },
    {
      "cell_type": "code",
      "metadata": {
        "colab": {
          "base_uri": "https://localhost:8080/",
          "height": 35
        },
        "id": "0_mgrs2-8bFD",
        "outputId": "a0690ca1-f665-47ba-8ec3-2d6ff7d841ef"
      },
      "source": [
        "#5\n",
        "txt=\"my name is {0},aged {1}\".format(\"Khalid\",25)\n",
        "txt"
      ],
      "execution_count": 7,
      "outputs": [
        {
          "output_type": "execute_result",
          "data": {
            "application/vnd.google.colaboratory.intrinsic+json": {
              "type": "string"
            },
            "text/plain": [
              "'my name is Khalid,aged 25'"
            ]
          },
          "metadata": {
            "tags": []
          },
          "execution_count": 7
        }
      ]
    },
    {
      "cell_type": "code",
      "metadata": {
        "colab": {
          "base_uri": "https://localhost:8080/"
        },
        "id": "qocIkFfgAsmJ",
        "outputId": "06250fbb-d398-4097-ce0d-fe70076441ba"
      },
      "source": [
        "#6#index()\n",
        "car = ['ferrari', 'lambo', 'fiat']\n",
        "\n",
        "x = car.index(\"lambo\")\n",
        "\n",
        "print(x)\n"
      ],
      "execution_count": 9,
      "outputs": [
        {
          "output_type": "stream",
          "text": [
            "1\n"
          ],
          "name": "stdout"
        }
      ]
    },
    {
      "cell_type": "code",
      "metadata": {
        "colab": {
          "base_uri": "https://localhost:8080/"
        },
        "id": "NnnOMVTJBWe9",
        "outputId": "f7388045-e5c6-46fc-8fba-f864eb0c167e"
      },
      "source": [
        "#7 isdecimal() Check if all the characters in the unicode are decimals\n",
        "txt = \"khalid\" #unicode for 3\n",
        "txt1= \"\\u0047\" #unicode for G\n",
        "txt2=\"\\u0030\" #unicode for 0\n",
        "x = txt.isdecimal()\n",
        "y = txt1.isdecimal()\n",
        "z = txt2.isdecimal()\n",
        "\n",
        "print(x)\n",
        "print(y)\n",
        "print(z)"
      ],
      "execution_count": 15,
      "outputs": [
        {
          "output_type": "stream",
          "text": [
            "False\n",
            "False\n",
            "True\n"
          ],
          "name": "stdout"
        }
      ]
    },
    {
      "cell_type": "code",
      "metadata": {
        "colab": {
          "base_uri": "https://localhost:8080/",
          "height": 35
        },
        "id": "kn30mQpFDc0_",
        "outputId": "c0578d65-2e4f-4da5-c134-6750e3e3b6a0"
      },
      "source": [
        "8#The strip() method removes any whitespace from the beginning or the end\n",
        "st.strip()"
      ],
      "execution_count": 16,
      "outputs": [
        {
          "output_type": "execute_result",
          "data": {
            "application/vnd.google.colaboratory.intrinsic+json": {
              "type": "string"
            },
            "text/plain": [
              "'Khalid akram'"
            ]
          },
          "metadata": {
            "tags": []
          },
          "execution_count": 16
        }
      ]
    },
    {
      "cell_type": "markdown",
      "metadata": {
        "id": "qj7rJDPXvvtp"
      },
      "source": [
        " 4)Write a Python function that converts temperatures from Fahrenheit to Celsius. "
      ]
    },
    {
      "cell_type": "code",
      "metadata": {
        "colab": {
          "base_uri": "https://localhost:8080/"
        },
        "id": "1pJWo8Xevt5e",
        "outputId": "6b640ffc-fbcc-4250-9acd-e45757a0a44a"
      },
      "source": [
        "def conversion(formula):\n",
        "  formula=(degree * 9/5) + 32 \n",
        "  return formula\n",
        "  \n",
        "\n",
        "degree=int(input(\"Enter degrees in celsius\"))\n",
        "print(conversion(degree))"
      ],
      "execution_count": 3,
      "outputs": [
        {
          "output_type": "stream",
          "text": [
            "Enter degrees in celsius32\n",
            "89.6\n"
          ],
          "name": "stdout"
        }
      ]
    }
  ]
}